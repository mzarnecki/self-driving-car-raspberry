{
 "cells": [
  {
   "cell_type": "code",
   "id": "initial_id",
   "metadata": {
    "collapsed": true,
    "ExecuteTime": {
     "end_time": "2025-06-06T06:34:43.101520Z",
     "start_time": "2025-06-06T06:34:36.438864Z"
    }
   },
   "source": [
    "import base64\n",
    "from openai import OpenAI\n",
    "from dotenv import load_dotenv, find_dotenv\n",
    "\n",
    "load_dotenv(find_dotenv())\n",
    "\n",
    "def generate_multimodal(image_path: str, prompt: str):\n",
    "\n",
    "    client = OpenAI()\n",
    "    with open(image_path, \"rb\") as image:\n",
    "        base64_image = base64.b64encode(image.read()).decode(\"utf-8\")\n",
    "\n",
    "    response = client.chat.completions.create(\n",
    "        model=\"gpt-4.1-mini\",\n",
    "        messages=[{\n",
    "            \"role\": \"user\",\n",
    "            \"content\": [\n",
    "                {\"type\": \"text\", \"text\": prompt},\n",
    "                {\n",
    "                    \"type\": \"image_url\",\n",
    "                    \"image_url\": {\n",
    "                        \"url\": f\"data:image/jpeg;base64,{base64_image}\",\n",
    "                        \"detail\": \"low\"\n",
    "                    },\n",
    "                },\n",
    "            ],\n",
    "        }],\n",
    "    )\n",
    "\n",
    "    return response.choices[0].message.content\n",
    "\n",
    "prompt = \"Detect next move for the autonomous car. Based on lane detected on image return only a single word: forward, left or right.\"\n",
    "\n",
    "\n",
    "response_forward = generate_multimodal('sequences/sequence_6/2022-11-29 09:33:21.725129.jpg', prompt)\n",
    "print(response_forward)\n",
    "\n",
    "response_right = generate_multimodal('sequences/sequence_5/2022-11-29 09:31:55.649172.jpg', prompt)\n",
    "print(response_right)\n",
    "\n",
    "response_left = generate_multimodal('sequences/sequence_2/2022-11-29 09:28:52.622967.jpg', prompt)\n",
    "print(response_left)\n",
    "\n",
    "\n",
    "assert response_forward.lower() == 'forward', \"Response of recognition image forward failed.\"\n",
    "assert response_right.lower() == 'right', \"Response of recognition image right failed.\"\n",
    "assert response_left.lower() == 'left', \"Response of recognition image left failed.\""
   ],
   "outputs": [
    {
     "name": "stdout",
     "output_type": "stream",
     "text": [
      "forward\n",
      "right\n",
      "left\n"
     ]
    }
   ],
   "execution_count": 9
  },
  {
   "metadata": {},
   "cell_type": "code",
   "outputs": [],
   "execution_count": null,
   "source": "",
   "id": "a51c4b43a7371383"
  }
 ],
 "metadata": {
  "kernelspec": {
   "display_name": "Python 3",
   "language": "python",
   "name": "python3"
  },
  "language_info": {
   "codemirror_mode": {
    "name": "ipython",
    "version": 2
   },
   "file_extension": ".py",
   "mimetype": "text/x-python",
   "name": "python",
   "nbconvert_exporter": "python",
   "pygments_lexer": "ipython2",
   "version": "2.7.6"
  }
 },
 "nbformat": 4,
 "nbformat_minor": 5
}
